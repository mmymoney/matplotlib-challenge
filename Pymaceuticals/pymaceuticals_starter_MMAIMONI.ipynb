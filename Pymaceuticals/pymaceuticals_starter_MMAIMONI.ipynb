{
 "cells": [
  {
   "cell_type": "markdown",
   "metadata": {},
   "source": [
    "# Pymaceuticals Inc.\n",
    "---\n",
    "\n",
    "### Analysis\n",
    "* Based on the scatterplot and linear regression model applied to weight vs. average tumor volume, there appears to be a strong positive correlation between a mouse's weight and their average tumor volume.\n",
    "* Based on the boxplot of the four regimens of interest, infubinol appears to have an outlier value (Mouse ID: c326). This could imply that Mouse ID: c326 has some other factors affecting its tumor size beyond the infubinol treatments. \n",
    "* Based on the piecharts created for the ratio of mice participants in this study, the count of male/female mice appears to be relatively even. This could be a good basis for the results of the study being applicable to both male and female mice."
   ]
  },
  {
   "cell_type": "markdown",
   "metadata": {},
   "source": [
    "## Dependencies and starter code"
   ]
  },
  {
   "cell_type": "code",
   "execution_count": 93,
   "metadata": {},
   "outputs": [
    {
     "data": {
      "text/html": [
       "<div>\n",
       "<style scoped>\n",
       "    .dataframe tbody tr th:only-of-type {\n",
       "        vertical-align: middle;\n",
       "    }\n",
       "\n",
       "    .dataframe tbody tr th {\n",
       "        vertical-align: top;\n",
       "    }\n",
       "\n",
       "    .dataframe thead th {\n",
       "        text-align: right;\n",
       "    }\n",
       "</style>\n",
       "<table border=\"1\" class=\"dataframe\">\n",
       "  <thead>\n",
       "    <tr style=\"text-align: right;\">\n",
       "      <th></th>\n",
       "      <th>Mouse ID</th>\n",
       "      <th>Timepoint</th>\n",
       "      <th>Tumor Volume (mm3)</th>\n",
       "      <th>Metastatic Sites</th>\n",
       "      <th>Drug Regimen</th>\n",
       "      <th>Sex</th>\n",
       "      <th>Age_months</th>\n",
       "      <th>Weight (g)</th>\n",
       "    </tr>\n",
       "  </thead>\n",
       "  <tbody>\n",
       "    <tr>\n",
       "      <td>0</td>\n",
       "      <td>b128</td>\n",
       "      <td>0</td>\n",
       "      <td>45.000000</td>\n",
       "      <td>0</td>\n",
       "      <td>Capomulin</td>\n",
       "      <td>Female</td>\n",
       "      <td>9</td>\n",
       "      <td>22</td>\n",
       "    </tr>\n",
       "    <tr>\n",
       "      <td>1</td>\n",
       "      <td>b128</td>\n",
       "      <td>5</td>\n",
       "      <td>45.651331</td>\n",
       "      <td>0</td>\n",
       "      <td>Capomulin</td>\n",
       "      <td>Female</td>\n",
       "      <td>9</td>\n",
       "      <td>22</td>\n",
       "    </tr>\n",
       "    <tr>\n",
       "      <td>2</td>\n",
       "      <td>b128</td>\n",
       "      <td>10</td>\n",
       "      <td>43.270852</td>\n",
       "      <td>0</td>\n",
       "      <td>Capomulin</td>\n",
       "      <td>Female</td>\n",
       "      <td>9</td>\n",
       "      <td>22</td>\n",
       "    </tr>\n",
       "    <tr>\n",
       "      <td>3</td>\n",
       "      <td>b128</td>\n",
       "      <td>15</td>\n",
       "      <td>43.784893</td>\n",
       "      <td>0</td>\n",
       "      <td>Capomulin</td>\n",
       "      <td>Female</td>\n",
       "      <td>9</td>\n",
       "      <td>22</td>\n",
       "    </tr>\n",
       "    <tr>\n",
       "      <td>4</td>\n",
       "      <td>b128</td>\n",
       "      <td>20</td>\n",
       "      <td>42.731552</td>\n",
       "      <td>0</td>\n",
       "      <td>Capomulin</td>\n",
       "      <td>Female</td>\n",
       "      <td>9</td>\n",
       "      <td>22</td>\n",
       "    </tr>\n",
       "    <tr>\n",
       "      <td>...</td>\n",
       "      <td>...</td>\n",
       "      <td>...</td>\n",
       "      <td>...</td>\n",
       "      <td>...</td>\n",
       "      <td>...</td>\n",
       "      <td>...</td>\n",
       "      <td>...</td>\n",
       "      <td>...</td>\n",
       "    </tr>\n",
       "    <tr>\n",
       "      <td>1888</td>\n",
       "      <td>m601</td>\n",
       "      <td>25</td>\n",
       "      <td>33.118756</td>\n",
       "      <td>1</td>\n",
       "      <td>Capomulin</td>\n",
       "      <td>Male</td>\n",
       "      <td>22</td>\n",
       "      <td>17</td>\n",
       "    </tr>\n",
       "    <tr>\n",
       "      <td>1889</td>\n",
       "      <td>m601</td>\n",
       "      <td>30</td>\n",
       "      <td>31.758275</td>\n",
       "      <td>1</td>\n",
       "      <td>Capomulin</td>\n",
       "      <td>Male</td>\n",
       "      <td>22</td>\n",
       "      <td>17</td>\n",
       "    </tr>\n",
       "    <tr>\n",
       "      <td>1890</td>\n",
       "      <td>m601</td>\n",
       "      <td>35</td>\n",
       "      <td>30.834357</td>\n",
       "      <td>1</td>\n",
       "      <td>Capomulin</td>\n",
       "      <td>Male</td>\n",
       "      <td>22</td>\n",
       "      <td>17</td>\n",
       "    </tr>\n",
       "    <tr>\n",
       "      <td>1891</td>\n",
       "      <td>m601</td>\n",
       "      <td>40</td>\n",
       "      <td>31.378045</td>\n",
       "      <td>1</td>\n",
       "      <td>Capomulin</td>\n",
       "      <td>Male</td>\n",
       "      <td>22</td>\n",
       "      <td>17</td>\n",
       "    </tr>\n",
       "    <tr>\n",
       "      <td>1892</td>\n",
       "      <td>m601</td>\n",
       "      <td>45</td>\n",
       "      <td>28.430964</td>\n",
       "      <td>1</td>\n",
       "      <td>Capomulin</td>\n",
       "      <td>Male</td>\n",
       "      <td>22</td>\n",
       "      <td>17</td>\n",
       "    </tr>\n",
       "  </tbody>\n",
       "</table>\n",
       "<p>1893 rows × 8 columns</p>\n",
       "</div>"
      ],
      "text/plain": [
       "     Mouse ID  Timepoint  Tumor Volume (mm3)  Metastatic Sites Drug Regimen  \\\n",
       "0        b128          0           45.000000                 0    Capomulin   \n",
       "1        b128          5           45.651331                 0    Capomulin   \n",
       "2        b128         10           43.270852                 0    Capomulin   \n",
       "3        b128         15           43.784893                 0    Capomulin   \n",
       "4        b128         20           42.731552                 0    Capomulin   \n",
       "...       ...        ...                 ...               ...          ...   \n",
       "1888     m601         25           33.118756                 1    Capomulin   \n",
       "1889     m601         30           31.758275                 1    Capomulin   \n",
       "1890     m601         35           30.834357                 1    Capomulin   \n",
       "1891     m601         40           31.378045                 1    Capomulin   \n",
       "1892     m601         45           28.430964                 1    Capomulin   \n",
       "\n",
       "         Sex  Age_months  Weight (g)  \n",
       "0     Female           9          22  \n",
       "1     Female           9          22  \n",
       "2     Female           9          22  \n",
       "3     Female           9          22  \n",
       "4     Female           9          22  \n",
       "...      ...         ...         ...  \n",
       "1888    Male          22          17  \n",
       "1889    Male          22          17  \n",
       "1890    Male          22          17  \n",
       "1891    Male          22          17  \n",
       "1892    Male          22          17  \n",
       "\n",
       "[1893 rows x 8 columns]"
      ]
     },
     "execution_count": 93,
     "metadata": {},
     "output_type": "execute_result"
    }
   ],
   "source": [
    "# Dependencies and Setup\n",
    "import matplotlib.pyplot as plt\n",
    "import pandas as pd\n",
    "import scipy.stats as st\n",
    "import numpy as np\n",
    "\n",
    "# Study data files\n",
    "mouse_metadata = \"data/Mouse_metadata.csv\"\n",
    "study_results = \"data/Study_results.csv\"\n",
    "\n",
    "# Read the mouse data and the study results\n",
    "mouse_metadata = pd.read_csv(mouse_metadata)\n",
    "study_results = pd.read_csv(study_results)\n",
    "\n",
    "# Combine the data into a single dataset\n",
    "# Used right join to append mouse metadata into the study result dataframe\n",
    "merged_df = pd.merge(study_results,mouse_metadata,on='Mouse ID', how='right')\n",
    "merged_df"
   ]
  },
  {
   "cell_type": "markdown",
   "metadata": {},
   "source": [
    "## Summary statistics"
   ]
  },
  {
   "cell_type": "code",
   "execution_count": 94,
   "metadata": {
    "scrolled": true
   },
   "outputs": [
    {
     "data": {
      "text/html": [
       "<div>\n",
       "<style scoped>\n",
       "    .dataframe tbody tr th:only-of-type {\n",
       "        vertical-align: middle;\n",
       "    }\n",
       "\n",
       "    .dataframe tbody tr th {\n",
       "        vertical-align: top;\n",
       "    }\n",
       "\n",
       "    .dataframe thead th {\n",
       "        text-align: right;\n",
       "    }\n",
       "</style>\n",
       "<table border=\"1\" class=\"dataframe\">\n",
       "  <thead>\n",
       "    <tr style=\"text-align: right;\">\n",
       "      <th>Drug Regimen</th>\n",
       "      <th>Capomulin</th>\n",
       "      <th>Ceftamin</th>\n",
       "      <th>Infubinol</th>\n",
       "      <th>Ketapril</th>\n",
       "      <th>Naftisol</th>\n",
       "      <th>Placebo</th>\n",
       "      <th>Propriva</th>\n",
       "      <th>Ramicane</th>\n",
       "      <th>Stelasyn</th>\n",
       "      <th>Zoniferol</th>\n",
       "    </tr>\n",
       "  </thead>\n",
       "  <tbody>\n",
       "    <tr>\n",
       "      <td>Mean</td>\n",
       "      <td>40.675741</td>\n",
       "      <td>52.591172</td>\n",
       "      <td>52.884795</td>\n",
       "      <td>55.235638</td>\n",
       "      <td>54.331565</td>\n",
       "      <td>54.033581</td>\n",
       "      <td>52.322552</td>\n",
       "      <td>40.216745</td>\n",
       "      <td>54.233149</td>\n",
       "      <td>53.236507</td>\n",
       "    </tr>\n",
       "    <tr>\n",
       "      <td>Median</td>\n",
       "      <td>41.557809</td>\n",
       "      <td>51.776157</td>\n",
       "      <td>51.820584</td>\n",
       "      <td>53.698743</td>\n",
       "      <td>52.509285</td>\n",
       "      <td>52.288934</td>\n",
       "      <td>50.854632</td>\n",
       "      <td>40.673236</td>\n",
       "      <td>52.431737</td>\n",
       "      <td>51.818479</td>\n",
       "    </tr>\n",
       "    <tr>\n",
       "      <td>Std. dev</td>\n",
       "      <td>4.994774</td>\n",
       "      <td>6.268188</td>\n",
       "      <td>6.567243</td>\n",
       "      <td>8.279709</td>\n",
       "      <td>8.134708</td>\n",
       "      <td>7.821003</td>\n",
       "      <td>6.507770</td>\n",
       "      <td>4.846308</td>\n",
       "      <td>7.710419</td>\n",
       "      <td>6.966589</td>\n",
       "    </tr>\n",
       "    <tr>\n",
       "      <td>Variance</td>\n",
       "      <td>24.947764</td>\n",
       "      <td>39.290177</td>\n",
       "      <td>43.128684</td>\n",
       "      <td>68.553577</td>\n",
       "      <td>66.173479</td>\n",
       "      <td>61.168083</td>\n",
       "      <td>42.351070</td>\n",
       "      <td>23.486704</td>\n",
       "      <td>59.450562</td>\n",
       "      <td>48.533355</td>\n",
       "    </tr>\n",
       "    <tr>\n",
       "      <td>SEM</td>\n",
       "      <td>0.329346</td>\n",
       "      <td>0.469821</td>\n",
       "      <td>0.492236</td>\n",
       "      <td>0.603860</td>\n",
       "      <td>0.596466</td>\n",
       "      <td>0.581331</td>\n",
       "      <td>0.512884</td>\n",
       "      <td>0.320955</td>\n",
       "      <td>0.573111</td>\n",
       "      <td>0.516398</td>\n",
       "    </tr>\n",
       "  </tbody>\n",
       "</table>\n",
       "</div>"
      ],
      "text/plain": [
       "Drug Regimen  Capomulin   Ceftamin  Infubinol   Ketapril   Naftisol  \\\n",
       "Mean          40.675741  52.591172  52.884795  55.235638  54.331565   \n",
       "Median        41.557809  51.776157  51.820584  53.698743  52.509285   \n",
       "Std. dev       4.994774   6.268188   6.567243   8.279709   8.134708   \n",
       "Variance      24.947764  39.290177  43.128684  68.553577  66.173479   \n",
       "SEM            0.329346   0.469821   0.492236   0.603860   0.596466   \n",
       "\n",
       "Drug Regimen    Placebo   Propriva   Ramicane   Stelasyn  Zoniferol  \n",
       "Mean          54.033581  52.322552  40.216745  54.233149  53.236507  \n",
       "Median        52.288934  50.854632  40.673236  52.431737  51.818479  \n",
       "Std. dev       7.821003   6.507770   4.846308   7.710419   6.966589  \n",
       "Variance      61.168083  42.351070  23.486704  59.450562  48.533355  \n",
       "SEM            0.581331   0.512884   0.320955   0.573111   0.516398  "
      ]
     },
     "execution_count": 94,
     "metadata": {},
     "output_type": "execute_result"
    }
   ],
   "source": [
    "# Generate a summary statistics table of mean, median, variance, standard deviation, and SEM of the tumor volume for each regimen\n",
    "summary_df = pd.DataFrame([merged_df.groupby('Drug Regimen')['Tumor Volume (mm3)'].mean(),\n",
    "                           merged_df.groupby('Drug Regimen')['Tumor Volume (mm3)'].median(), \n",
    "                           merged_df.groupby('Drug Regimen')['Tumor Volume (mm3)'].std(), \n",
    "                           merged_df.groupby('Drug Regimen')['Tumor Volume (mm3)'].var(),\n",
    "                           merged_df.groupby('Drug Regimen')['Tumor Volume (mm3)'].sem()], \n",
    "                           index=['Mean', 'Median', 'Std. dev', 'Variance', 'SEM'])\n",
    "summary_df"
   ]
  },
  {
   "cell_type": "markdown",
   "metadata": {},
   "source": [
    "## Bar plots"
   ]
  },
  {
   "cell_type": "code",
   "execution_count": 95,
   "metadata": {},
   "outputs": [
    {
     "data": {
      "text/plain": [
       "<matplotlib.axes._subplots.AxesSubplot at 0x1a1b7a4550>"
      ]
     },
     "execution_count": 95,
     "metadata": {},
     "output_type": "execute_result"
    },
    {
     "data": {
      "image/png": "[encoded data removed]",
      "text/plain": [
       "<Figure size 432x288 with 1 Axes>"
      ]
     },
     "metadata": {
      "needs_background": "light"
     },
     "output_type": "display_data"
    }
   ],
   "source": [
    "# Generate a bar plot showing number of data points for each treatment regimen using pandas\n",
    "\n",
    "#create groupby object by drug regimen and counting the number of instances of Mouse ID; sort values in descending order for presentation\n",
    "regimen_count = merged_df.groupby('Drug Regimen')['Mouse ID'].count().sort_values(ascending=False)\n",
    "\n",
    "#move groupby object into dataframe\n",
    "regimen_count_df = pd.DataFrame(regimen_count)\n",
    "\n",
    "#create column with 'Number of Data Points' as label\n",
    "regimen_count_df['Number of Data Points'] = regimen_count_df['Mouse ID']\n",
    "\n",
    "#remove redundant column\n",
    "del regimen_count_df['Mouse ID']\n",
    "\n",
    "#use pandas .plot.bar to plot bar chart; color and title applied\n",
    "regimen_count_df.plot.bar(color = 'pink', title = 'Number of Data Points for Each Treatment Regimen')"
   ]
  },
  {
   "cell_type": "code",
   "execution_count": 96,
   "metadata": {},
   "outputs": [
    {
     "data": {
      "image/png": "[encoded data removed]",
      "text/plain": [
       "<Figure size 432x288 with 1 Axes>"
      ]
     },
     "metadata": {
      "needs_background": "light"
     },
     "output_type": "display_data"
    }
   ],
   "source": [
    "# Generate a bar plot showing number of data points for each treatment regimen using pyplot\n",
    "\n",
    "#use pyplot to plot barchart based on the dataframe created above('regimen_count')\n",
    "plt.bar(regimen_count_df.index.values,regimen_count_df['Number of Data Points'].sort_values(ascending=False), color = 'pink')\n",
    "\n",
    "#rotate xticks for presentation\n",
    "plt.xticks(rotation='90')\n",
    "\n",
    "#apply title\n",
    "plt.title('Number of Data Points for Each Treatment Regimen')\n",
    "\n",
    "#apply x and y labels for presentation\n",
    "plt.xlabel('Drug Regimen')\n",
    "plt.ylabel('Number of Data Points')\n",
    "\n",
    "#show\n",
    "plt.show()"
   ]
  },
  {
   "cell_type": "markdown",
   "metadata": {},
   "source": [
    "## Pie plots"
   ]
  },
  {
   "cell_type": "code",
   "execution_count": 97,
   "metadata": {},
   "outputs": [
    {
     "data": {
      "text/plain": [
       "array([<matplotlib.axes._subplots.AxesSubplot object at 0x1a1cdccb90>],\n",
       "      dtype=object)"
      ]
     },
     "execution_count": 97,
     "metadata": {},
     "output_type": "execute_result"
    },
    {
     "data": {
      "image/png": "[encoded data removed]",
      "text/plain": [
       "<Figure size 432x288 with 1 Axes>"
      ]
     },
     "metadata": {},
     "output_type": "display_data"
    }
   ],
   "source": [
    "# Generate a pie plot showing the distribution of female versus male mice using pandas\n",
    "\n",
    "#create groupby object and use to create dataframe for pie chart\n",
    "sex_panda_count = merged_df.groupby('Sex')['Mouse ID'].count()\n",
    "sex_panda_count_df = pd.DataFrame(sex_panda_count)\n",
    "\n",
    "#use Pandas to plot pie chart and format autopct\n",
    "sex_panda_count_df.plot.pie(subplots=True,autopct='%1.1f%%')"
   ]
  },
  {
   "cell_type": "code",
   "execution_count": 98,
   "metadata": {},
   "outputs": [
    {
     "name": "stderr",
     "output_type": "stream",
     "text": [
      "/opt/anaconda3/lib/python3.7/site-packages/ipykernel_launcher.py:11: MatplotlibDeprecationWarning: Non-1D inputs to pie() are currently squeeze()d, but this behavior is deprecated since 3.1 and will be removed in 3.3; pass a 1D array instead.\n",
      "  # This is added back by InteractiveShellApp.init_path()\n"
     ]
    },
    {
     "data": {
      "image/png": "[encoded data removed]",
      "text/plain": [
       "<Figure size 432x288 with 1 Axes>"
      ]
     },
     "metadata": {},
     "output_type": "display_data"
    }
   ],
   "source": [
    "# Generate a pie plot showing the distribution of female versus male mice using pyplot\n",
    "\n",
    "#Create labels for pie chart\n",
    "labels = ('Male', 'Female')\n",
    "\n",
    "#create groupby object and use to create dataframe for pie chart\n",
    "sex_count = merged_df.groupby('Sex')['Mouse ID'].count()\n",
    "sex_count_df = pd.DataFrame(sex_count)\n",
    "\n",
    "#Plot pie chart\n",
    "plt.pie(sex_count_df, labels=labels,autopct='%1.1f%%')\n",
    "plt.axis(\"equal\")\n",
    "plt.show()"
   ]
  },
  {
   "cell_type": "markdown",
   "metadata": {},
   "source": [
    "## Quartiles, outliers and boxplots"
   ]
  },
  {
   "cell_type": "code",
   "execution_count": 99,
   "metadata": {},
   "outputs": [
    {
     "data": {
      "text/html": [
       "<div>\n",
       "<style scoped>\n",
       "    .dataframe tbody tr th:only-of-type {\n",
       "        vertical-align: middle;\n",
       "    }\n",
       "\n",
       "    .dataframe tbody tr th {\n",
       "        vertical-align: top;\n",
       "    }\n",
       "\n",
       "    .dataframe thead th {\n",
       "        text-align: right;\n",
       "    }\n",
       "</style>\n",
       "<table border=\"1\" class=\"dataframe\">\n",
       "  <thead>\n",
       "    <tr style=\"text-align: right;\">\n",
       "      <th></th>\n",
       "      <th>Tumor Volume (mm3)</th>\n",
       "    </tr>\n",
       "    <tr>\n",
       "      <th>Mouse ID</th>\n",
       "      <th></th>\n",
       "    </tr>\n",
       "  </thead>\n",
       "  <tbody>\n",
       "    <tr>\n",
       "      <td>a203</td>\n",
       "      <td>67.973419</td>\n",
       "    </tr>\n",
       "    <tr>\n",
       "      <td>a251</td>\n",
       "      <td>65.525743</td>\n",
       "    </tr>\n",
       "    <tr>\n",
       "      <td>a262</td>\n",
       "      <td>70.717621</td>\n",
       "    </tr>\n",
       "    <tr>\n",
       "      <td>a275</td>\n",
       "      <td>62.999356</td>\n",
       "    </tr>\n",
       "    <tr>\n",
       "      <td>a366</td>\n",
       "      <td>63.440686</td>\n",
       "    </tr>\n",
       "    <tr>\n",
       "      <td>...</td>\n",
       "      <td>...</td>\n",
       "    </tr>\n",
       "    <tr>\n",
       "      <td>z435</td>\n",
       "      <td>48.710661</td>\n",
       "    </tr>\n",
       "    <tr>\n",
       "      <td>z578</td>\n",
       "      <td>45.000000</td>\n",
       "    </tr>\n",
       "    <tr>\n",
       "      <td>z581</td>\n",
       "      <td>62.754451</td>\n",
       "    </tr>\n",
       "    <tr>\n",
       "      <td>z795</td>\n",
       "      <td>65.741070</td>\n",
       "    </tr>\n",
       "    <tr>\n",
       "      <td>z969</td>\n",
       "      <td>73.867845</td>\n",
       "    </tr>\n",
       "  </tbody>\n",
       "</table>\n",
       "<p>249 rows × 1 columns</p>\n",
       "</div>"
      ],
      "text/plain": [
       "          Tumor Volume (mm3)\n",
       "Mouse ID                    \n",
       "a203               67.973419\n",
       "a251               65.525743\n",
       "a262               70.717621\n",
       "a275               62.999356\n",
       "a366               63.440686\n",
       "...                      ...\n",
       "z435               48.710661\n",
       "z578               45.000000\n",
       "z581               62.754451\n",
       "z795               65.741070\n",
       "z969               73.867845\n",
       "\n",
       "[249 rows x 1 columns]"
      ]
     },
     "execution_count": 99,
     "metadata": {},
     "output_type": "execute_result"
    }
   ],
   "source": [
    "# Calculate the final tumor volume of each mouse across four of the most promising treatment regimens. \n",
    "\n",
    "#groupby and application of .max() to identify final tumor volume\n",
    "max_volume = merged_df.groupby('Mouse ID')['Tumor Volume (mm3)'].max()\n",
    "\n",
    "#create dataframe from groupby object\n",
    "max_volume_df = pd.DataFrame(max_volume)\n",
    "\n",
    "#display dataframe\n",
    "max_volume_df"
   ]
  },
  {
   "cell_type": "code",
   "execution_count": 100,
   "metadata": {},
   "outputs": [
    {
     "data": {
      "text/html": [
       "<div>\n",
       "<style scoped>\n",
       "    .dataframe tbody tr th:only-of-type {\n",
       "        vertical-align: middle;\n",
       "    }\n",
       "\n",
       "    .dataframe tbody tr th {\n",
       "        vertical-align: top;\n",
       "    }\n",
       "\n",
       "    .dataframe thead th {\n",
       "        text-align: right;\n",
       "    }\n",
       "</style>\n",
       "<table border=\"1\" class=\"dataframe\">\n",
       "  <thead>\n",
       "    <tr style=\"text-align: right;\">\n",
       "      <th></th>\n",
       "      <th>Mouse ID</th>\n",
       "      <th>Timepoint</th>\n",
       "      <th>Tumor Volume (mm3)</th>\n",
       "      <th>Metastatic Sites</th>\n",
       "      <th>Drug Regimen</th>\n",
       "      <th>Sex</th>\n",
       "      <th>Age_months</th>\n",
       "      <th>Weight (g)</th>\n",
       "    </tr>\n",
       "  </thead>\n",
       "  <tbody>\n",
       "    <tr>\n",
       "      <td>0</td>\n",
       "      <td>a203</td>\n",
       "      <td>45</td>\n",
       "      <td>67.973419</td>\n",
       "      <td>2</td>\n",
       "      <td>Infubinol</td>\n",
       "      <td>Female</td>\n",
       "      <td>20</td>\n",
       "      <td>23</td>\n",
       "    </tr>\n",
       "    <tr>\n",
       "      <td>1</td>\n",
       "      <td>a251</td>\n",
       "      <td>45</td>\n",
       "      <td>65.525743</td>\n",
       "      <td>1</td>\n",
       "      <td>Infubinol</td>\n",
       "      <td>Female</td>\n",
       "      <td>21</td>\n",
       "      <td>25</td>\n",
       "    </tr>\n",
       "    <tr>\n",
       "      <td>2</td>\n",
       "      <td>a262</td>\n",
       "      <td>45</td>\n",
       "      <td>70.717621</td>\n",
       "      <td>4</td>\n",
       "      <td>Placebo</td>\n",
       "      <td>Female</td>\n",
       "      <td>17</td>\n",
       "      <td>29</td>\n",
       "    </tr>\n",
       "    <tr>\n",
       "      <td>3</td>\n",
       "      <td>a275</td>\n",
       "      <td>45</td>\n",
       "      <td>62.999356</td>\n",
       "      <td>3</td>\n",
       "      <td>Ceftamin</td>\n",
       "      <td>Female</td>\n",
       "      <td>20</td>\n",
       "      <td>28</td>\n",
       "    </tr>\n",
       "    <tr>\n",
       "      <td>4</td>\n",
       "      <td>a366</td>\n",
       "      <td>30</td>\n",
       "      <td>63.440686</td>\n",
       "      <td>1</td>\n",
       "      <td>Stelasyn</td>\n",
       "      <td>Female</td>\n",
       "      <td>16</td>\n",
       "      <td>29</td>\n",
       "    </tr>\n",
       "    <tr>\n",
       "      <td>...</td>\n",
       "      <td>...</td>\n",
       "      <td>...</td>\n",
       "      <td>...</td>\n",
       "      <td>...</td>\n",
       "      <td>...</td>\n",
       "      <td>...</td>\n",
       "      <td>...</td>\n",
       "      <td>...</td>\n",
       "    </tr>\n",
       "    <tr>\n",
       "      <td>244</td>\n",
       "      <td>z435</td>\n",
       "      <td>10</td>\n",
       "      <td>48.710661</td>\n",
       "      <td>0</td>\n",
       "      <td>Propriva</td>\n",
       "      <td>Female</td>\n",
       "      <td>12</td>\n",
       "      <td>26</td>\n",
       "    </tr>\n",
       "    <tr>\n",
       "      <td>245</td>\n",
       "      <td>z578</td>\n",
       "      <td>45</td>\n",
       "      <td>45.000000</td>\n",
       "      <td>0</td>\n",
       "      <td>Ramicane</td>\n",
       "      <td>Male</td>\n",
       "      <td>11</td>\n",
       "      <td>16</td>\n",
       "    </tr>\n",
       "    <tr>\n",
       "      <td>246</td>\n",
       "      <td>z581</td>\n",
       "      <td>45</td>\n",
       "      <td>62.754451</td>\n",
       "      <td>3</td>\n",
       "      <td>Infubinol</td>\n",
       "      <td>Female</td>\n",
       "      <td>24</td>\n",
       "      <td>25</td>\n",
       "    </tr>\n",
       "    <tr>\n",
       "      <td>247</td>\n",
       "      <td>z795</td>\n",
       "      <td>45</td>\n",
       "      <td>65.741070</td>\n",
       "      <td>3</td>\n",
       "      <td>Naftisol</td>\n",
       "      <td>Female</td>\n",
       "      <td>13</td>\n",
       "      <td>29</td>\n",
       "    </tr>\n",
       "    <tr>\n",
       "      <td>248</td>\n",
       "      <td>z969</td>\n",
       "      <td>45</td>\n",
       "      <td>73.867845</td>\n",
       "      <td>4</td>\n",
       "      <td>Naftisol</td>\n",
       "      <td>Male</td>\n",
       "      <td>9</td>\n",
       "      <td>30</td>\n",
       "    </tr>\n",
       "  </tbody>\n",
       "</table>\n",
       "<p>249 rows × 8 columns</p>\n",
       "</div>"
      ],
      "text/plain": [
       "    Mouse ID  Timepoint  Tumor Volume (mm3)  Metastatic Sites Drug Regimen  \\\n",
       "0       a203         45           67.973419                 2    Infubinol   \n",
       "1       a251         45           65.525743                 1    Infubinol   \n",
       "2       a262         45           70.717621                 4      Placebo   \n",
       "3       a275         45           62.999356                 3     Ceftamin   \n",
       "4       a366         30           63.440686                 1     Stelasyn   \n",
       "..       ...        ...                 ...               ...          ...   \n",
       "244     z435         10           48.710661                 0     Propriva   \n",
       "245     z578         45           45.000000                 0     Ramicane   \n",
       "246     z581         45           62.754451                 3    Infubinol   \n",
       "247     z795         45           65.741070                 3     Naftisol   \n",
       "248     z969         45           73.867845                 4     Naftisol   \n",
       "\n",
       "        Sex  Age_months  Weight (g)  \n",
       "0    Female          20          23  \n",
       "1    Female          21          25  \n",
       "2    Female          17          29  \n",
       "3    Female          20          28  \n",
       "4    Female          16          29  \n",
       "..      ...         ...         ...  \n",
       "244  Female          12          26  \n",
       "245    Male          11          16  \n",
       "246  Female          24          25  \n",
       "247  Female          13          29  \n",
       "248    Male           9          30  \n",
       "\n",
       "[249 rows x 8 columns]"
      ]
     },
     "execution_count": 100,
     "metadata": {},
     "output_type": "execute_result"
    }
   ],
   "source": [
    "# Calculate the IQR and quantitatively determine if there are any potential outliers.\n",
    "# Start by getting the last (greatest) timepoint for each mouse\n",
    "\n",
    "#groupby and apply .max() function to obtain last timepoint for each mouse\n",
    "max_tumor = merged_df.groupby([\"Mouse ID\"]).max()\n",
    "\n",
    "#reset index \n",
    "max_tumor = max_tumor.reset_index()\n",
    "\n",
    "#display df\n",
    "max_tumor"
   ]
  },
  {
   "cell_type": "code",
   "execution_count": 101,
   "metadata": {},
   "outputs": [],
   "source": [
    "# Merge this group df with the original dataframe to get the tumor volume at the last timepoint\n",
    "\n",
    "#use .merge() to merge df with original dataframe\n",
    "merged_data = max_tumor[['Mouse ID','Timepoint']].merge(merged_df,on=['Mouse ID','Timepoint'],how=\"left\")"
   ]
  },
  {
   "cell_type": "code",
   "execution_count": 102,
   "metadata": {},
   "outputs": [],
   "source": [
    "#Create dataframes for final tumor volume in the regimens of interest\n",
    "\n",
    "capomulin = merged_data[merged_data['Drug Regimen']=='Capomulin']\n",
    "ramicane = merged_data[merged_data['Drug Regimen']=='Ramicane']\n",
    "infubinol = merged_data[merged_data['Drug Regimen']=='Infubinol']\n",
    "ceftamin = merged_data[merged_data['Drug Regimen']=='Ceftamin']\n"
   ]
  },
  {
   "cell_type": "code",
   "execution_count": 103,
   "metadata": {},
   "outputs": [
    {
     "name": "stdout",
     "output_type": "stream",
     "text": [
      "The lower quartile of occupancy is 32.37735684\n",
      "The upper quartile of occupancy is 40.1592203\n",
      "The interquartile range of occupancy is 7.781863460000004\n",
      "The median of occupancy is 38.125164399999996\n",
      "Values below 20.70456164999999 could be outliers.\n",
      "Values above 51.83201549 could be outliers.\n",
      "Capomulin potential outliers: Empty DataFrame\n",
      "Columns: [Mouse ID, Timepoint, Tumor Volume (mm3), Metastatic Sites, Drug Regimen, Sex, Age_months, Weight (g)]\n",
      "Index: []\n"
     ]
    }
   ],
   "source": [
    "# Quantitatively determine capomulin outliers, print relevant info\n",
    "\n",
    "#identify quartiles\n",
    "cap_quartiles = capomulin['Tumor Volume (mm3)'].quantile([.25,.5,.75])\n",
    "\n",
    "#hold lower and upper quartiles in variables\n",
    "cap_lowerq = cap_quartiles[0.25]\n",
    "cap_upperq = cap_quartiles[0.75]\n",
    "\n",
    "#calculate IQR\n",
    "cap_iqr = cap_upperq-cap_lowerq\n",
    "\n",
    "#calculate upper and lower bounds\n",
    "cap_lower_bound = cap_lowerq - (1.5*cap_iqr)\n",
    "cap_upper_bound = cap_upperq + (1.5*cap_iqr)\n",
    "\n",
    "#print summary information\n",
    "print(f'The lower quartile of occupancy is {cap_lowerq}')\n",
    "print(f'The upper quartile of occupancy is {cap_upperq}')\n",
    "print(f'The interquartile range of occupancy is {cap_iqr}')\n",
    "print(f'The median of occupancy is {cap_quartiles[.5]}')\n",
    "print(f'Values below {cap_lower_bound} could be outliers.')\n",
    "print(f'Values above {cap_upper_bound} could be outliers.')\n",
    "print(f\"Capomulin potential outliers: {capomulin.loc[(capomulin['Tumor Volume (mm3)'] < cap_lower_bound) | (capomulin['Tumor Volume (mm3)'] > cap_upper_bound)]}\")"
   ]
  },
  {
   "cell_type": "code",
   "execution_count": 104,
   "metadata": {},
   "outputs": [
    {
     "name": "stdout",
     "output_type": "stream",
     "text": [
      "The lower quartile of occupancy is 31.56046955\n",
      "The upper quartile of occupancy is 40.65900627\n",
      "The interquartile range of occupancy is 9.098536719999998\n",
      "The median of occupancy is 36.56165229\n",
      "Values below 17.912664470000003 could be outliers.\n",
      "Values above 54.30681135 could be outliers.\n",
      "Capomulin potential outliers: Empty DataFrame\n",
      "Columns: [Mouse ID, Timepoint, Tumor Volume (mm3), Metastatic Sites, Drug Regimen, Sex, Age_months, Weight (g)]\n",
      "Index: []\n"
     ]
    }
   ],
   "source": [
    "# Quantitatively determine ramicane outliers, print relevant info\n",
    "\n",
    "#identify quartiles and store in variable\n",
    "ram_quartiles = ramicane['Tumor Volume (mm3)'].quantile([.25,.5,.75])\n",
    "\n",
    "#hold lower and upper quartiles in variables\n",
    "ram_lowerq = ram_quartiles[0.25]\n",
    "ram_upperq = ram_quartiles[0.75]\n",
    "\n",
    "#calculate IQR and store in variable\n",
    "ram_iqr = ram_upperq-ram_lowerq\n",
    "\n",
    "#calculate upper and lower bounds and store in variables\n",
    "ram_lower_bound = ram_lowerq - (1.5*ram_iqr)\n",
    "ram_upper_bound = ram_upperq + (1.5*ram_iqr)\n",
    "\n",
    "#print summary info\n",
    "print(f'The lower quartile of occupancy is {ram_lowerq}')\n",
    "print(f'The upper quartile of occupancy is {ram_upperq}')\n",
    "print(f'The interquartile range of occupancy is {ram_iqr}')\n",
    "print(f'The median of occupancy is {ram_quartiles[.5]}')\n",
    "print(f'Values below {ram_lower_bound} could be outliers.')\n",
    "print(f'Values above {ram_upper_bound} could be outliers.')\n",
    "print(f\"Capomulin potential outliers: {ramicane.loc[(ramicane['Tumor Volume (mm3)'] < ram_lower_bound) | (ramicane['Tumor Volume (mm3)'] > ram_upper_bound)]}\")"
   ]
  },
  {
   "cell_type": "code",
   "execution_count": 105,
   "metadata": {},
   "outputs": [
    {
     "name": "stdout",
     "output_type": "stream",
     "text": [
      "The lower quartile of occupancy is 54.04860769\n",
      "The upper quartile of occupancy is 65.52574285\n",
      "The interquartile range of occupancy is 11.477135160000003\n",
      "The median of occupancy is 60.16518046\n",
      "Values below 36.83290494999999 could be outliers.\n",
      "Values above 82.74144559000001 could be outliers.\n",
      "Capomulin potential outliers:    Mouse ID  Timepoint  Tumor Volume (mm3)  Metastatic Sites Drug Regimen  \\\n",
      "31     c326          5           36.321346                 0    Infubinol   \n",
      "\n",
      "       Sex  Age_months  Weight (g)  \n",
      "31  Female          18          25  \n"
     ]
    }
   ],
   "source": [
    "# Quantitatively determine infubinol outliers, print relevant info\n",
    "\n",
    "#identify quartiles and store in variable\n",
    "inf_quartiles = infubinol['Tumor Volume (mm3)'].quantile([.25,.5,.75])\n",
    "\n",
    "#hold lower and upper quartiles in variables\n",
    "inf_lowerq = inf_quartiles[0.25]\n",
    "inf_upperq = inf_quartiles[0.75]\n",
    "\n",
    "#calculate IQR and store in variable\n",
    "inf_iqr = inf_upperq-inf_lowerq\n",
    "\n",
    "#calculate upper and lower bounds and store in variables\n",
    "inf_lower_bound = inf_lowerq - (1.5*inf_iqr)\n",
    "inf_upper_bound = inf_upperq + (1.5*inf_iqr)\n",
    "\n",
    "#print summary info\n",
    "print(f'The lower quartile of occupancy is {inf_lowerq}')\n",
    "print(f'The upper quartile of occupancy is {inf_upperq}')\n",
    "print(f'The interquartile range of occupancy is {inf_iqr}')\n",
    "print(f'The median of occupancy is {inf_quartiles[.5]}')\n",
    "print(f'Values below {inf_lower_bound} could be outliers.')\n",
    "print(f'Values above {inf_upper_bound} could be outliers.')\n",
    "print(f\"Capomulin potential outliers: {infubinol.loc[(infubinol['Tumor Volume (mm3)'] < inf_lower_bound) | (infubinol['Tumor Volume (mm3)'] > inf_upper_bound)]}\")"
   ]
  },
  {
   "cell_type": "code",
   "execution_count": 106,
   "metadata": {},
   "outputs": [
    {
     "name": "stdout",
     "output_type": "stream",
     "text": [
      "The lower quartile of occupancy is 48.72207785\n",
      "The upper quartile of occupancy is 64.29983003\n",
      "The interquartile range of occupancy is 15.577752179999997\n",
      "The median of occupancy is 59.85195552\n",
      "Values below 25.355449580000002 could be outliers.\n",
      "Values above 87.66645829999999 could be outliers.\n",
      "Capomulin potential outliers: Empty DataFrame\n",
      "Columns: [Mouse ID, Timepoint, Tumor Volume (mm3), Metastatic Sites, Drug Regimen, Sex, Age_months, Weight (g)]\n",
      "Index: []\n"
     ]
    }
   ],
   "source": [
    "# Quantitatively determine ceftamin outliers\n",
    "\n",
    "#identify quartiles and store in variable\n",
    "cef_quartiles = ceftamin['Tumor Volume (mm3)'].quantile([.25,.5,.75])\n",
    "\n",
    "#hold lower and upper quartiles in variables\n",
    "cef_lowerq = cef_quartiles[0.25]\n",
    "cef_upperq = cef_quartiles[0.75]\n",
    "\n",
    "#calculate IQR and store in variable\n",
    "cef_iqr = cef_upperq-cef_lowerq\n",
    "\n",
    "#calculate upper and lower bounds and store in variables\n",
    "cef_lower_bound = cef_lowerq - (1.5*cef_iqr)\n",
    "cef_upper_bound = cef_upperq + (1.5*cef_iqr)\n",
    "\n",
    "#print summary info\n",
    "print(f'The lower quartile of occupancy is {cef_lowerq}')\n",
    "print(f'The upper quartile of occupancy is {cef_upperq}')\n",
    "print(f'The interquartile range of occupancy is {cef_iqr}')\n",
    "print(f'The median of occupancy is {cef_quartiles[.5]}')\n",
    "print(f'Values below {cef_lower_bound} could be outliers.')\n",
    "print(f'Values above {cef_upper_bound} could be outliers.')\n",
    "print(f\"Capomulin potential outliers: {ceftamin.loc[(ceftamin['Tumor Volume (mm3)'] < cef_lower_bound) | (ceftamin['Tumor Volume (mm3)'] > cef_upper_bound)]}\")"
   ]
  },
  {
   "cell_type": "code",
   "execution_count": 131,
   "metadata": {},
   "outputs": [
    {
     "data": {
      "image/png": "[encoded data removed]",
      "text/plain": [
       "<Figure size 432x288 with 1 Axes>"
      ]
     },
     "metadata": {
      "needs_background": "light"
     },
     "output_type": "display_data"
    }
   ],
   "source": [
    "# Generate a box plot of the final tumor volume of each mouse across four regimens of interest\n",
    "\n",
    "#variable for boxplot using tumor volumes across the drug regimens\n",
    "x = [capomulin['Tumor Volume (mm3)'],ramicane['Tumor Volume (mm3)'],infubinol['Tumor Volume (mm3)'],ceftamin['Tumor Volume (mm3)']];\n",
    "\n",
    "#variable for labels for boxplot\n",
    "xlabel = ('','Capomulin', 'Ramicane','Infubinol','Ceftamin')\n",
    "\n",
    "#plot boxplot using created variables, flag outlier with red coloring\n",
    "plt.boxplot(x,sym='red')\n",
    "\n",
    "#clean-up presentation\n",
    "plt.title(\"Boxplots of Final Tumor Volume by Drug Regimen\")\n",
    "plt.xticks(np.arange(5),labels = xlabel)\n",
    "plt.xlabel('Drug Regimen')\n",
    "plt.ylabel('Final Tumor Volume (mm3)')\n",
    "\n",
    "#add grid and show\n",
    "plt.show()"
   ]
  },
  {
   "cell_type": "markdown",
   "metadata": {},
   "source": [
    "## Line and scatter plots"
   ]
  },
  {
   "cell_type": "code",
   "execution_count": 132,
   "metadata": {
    "scrolled": true
   },
   "outputs": [
    {
     "data": {
      "image/png": "[encoded data removed]",
      "text/plain": [
       "<Figure size 432x288 with 1 Axes>"
      ]
     },
     "metadata": {
      "needs_background": "light"
     },
     "output_type": "display_data"
    }
   ],
   "source": [
    "# Generate a line plot of time point versus tumor volume for a mouse treated with Capomulin\n",
    "\n",
    "#create dataframe for Mouse ID b128 (participant in Capomulin drug regimen)\n",
    "b128 = merged_df[merged_df[\"Mouse ID\"] == 'b128']\n",
    "b128\n",
    "\n",
    "#Create line plot and label / title\n",
    "plt.plot(b128['Timepoint'],b128['Tumor Volume (mm3)'])\n",
    "plt.title(\"Mouse ID b128 Time Point vs. Tumor Volume (mm3)\")\n",
    "plt.xlabel(\"Timepoint\")\n",
    "plt.ylabel(\"Tumor Volume (mm3)\")\n",
    "\n",
    "#add grid and show\n",
    "plt.grid()\n",
    "plt.show()"
   ]
  },
  {
   "cell_type": "code",
   "execution_count": 133,
   "metadata": {},
   "outputs": [
    {
     "data": {
      "image/png": "[encoded data removed]",
      "text/plain": [
       "<Figure size 432x288 with 1 Axes>"
      ]
     },
     "metadata": {
      "needs_background": "light"
     },
     "output_type": "display_data"
    }
   ],
   "source": [
    "# Generate a scatter plot of mouse weight versus average tumor volume for the Capomulin regimen\n",
    "\n",
    "#1 - create restricted dataframe including only Capomulin participants\n",
    "merged_df_cap = merged_df[merged_df['Drug Regimen'] == 'Capomulin']\n",
    "\n",
    "#2 - groupby mouse to get average tumor volume using .mean()\n",
    "groupedmice_avg = merged_df_cap.groupby(['Mouse ID']).mean()\n",
    "\n",
    "#3 - scatter on average weight vs tumor volume\n",
    "plt.scatter(groupedmice_avg['Weight (g)'], groupedmice_avg['Tumor Volume (mm3)'])\n",
    "\n",
    "#4 - clean-up presentation and show\n",
    "\n",
    "plt.grid()\n",
    "plt.xlabel('Weight (g)')\n",
    "plt.ylabel('Tumor Volume (mm3)')\n",
    "plt.title('Weight vs Average Tumor Volume')\n",
    "plt.show()"
   ]
  },
  {
   "cell_type": "code",
   "execution_count": 135,
   "metadata": {},
   "outputs": [
    {
     "name": "stdout",
     "output_type": "stream",
     "text": [
      "The correlation between mouse weight and the average tumor volume is 0.8419363424694717.\n"
     ]
    },
    {
     "data": {
      "image/png": "[encoded data removed]",
      "text/plain": [
       "<Figure size 432x288 with 1 Axes>"
      ]
     },
     "metadata": {
      "needs_background": "light"
     },
     "output_type": "display_data"
    }
   ],
   "source": [
    "# Calculate the correlation coefficient and linear regression model for mouse weight and average tumor volume for the Capomulin regimen\n",
    "\n",
    "#1 - Pearson R function for correlation and corresponding print function.\n",
    "pearson_r = st.pearsonr(groupedmice_avg['Weight (g)'], groupedmice_avg['Tumor Volume (mm3)'])\n",
    "print(f'The correlation between mouse weight and the average tumor volume is {pearson_r[0]}.')\n",
    "\n",
    "#2 - Linear regression function \n",
    "lin_regress = st.linregress(groupedmice_avg['Weight (g)'], groupedmice_avg['Tumor Volume (mm3)'])\n",
    "\n",
    "#3 - define line and plot\n",
    "line_regression = groupedmice_avg['Weight (g)']*lin_regress[0]+lin_regress[1]\n",
    "plt.plot(groupedmice_avg['Weight (g)'],line_regression,color = 'red',label=(f'y={lin_regress[0]}x + {lin_regress[1]}'))\n",
    "\n",
    "#4 - add legend to show line equation to graph for presentation\n",
    "plt.legend(loc='upper left')\n",
    "\n",
    "#5 - rescatter from the above cell\n",
    "plt.scatter(groupedmice_avg['Weight (g)'], groupedmice_avg['Tumor Volume (mm3)'])\n",
    "\n",
    "#6 - clean-up presentation and show\n",
    "plt.grid()\n",
    "plt.xlabel('Weight (g)')\n",
    "plt.ylabel('Tumor Volume (mm3)')\n",
    "plt.title('Weight vs Average Tumor Volume')\n",
    "plt.show()"
   ]
  }
 ],
 "metadata": {
  "anaconda-cloud": {},
  "kernelspec": {
   "display_name": "Python 3",
   "language": "python",
   "name": "python3"
  },
  "language_info": {
   "codemirror_mode": {
    "name": "ipython",
    "version": 3
   },
   "file_extension": ".py",
   "mimetype": "text/x-python",
   "name": "python",
   "nbconvert_exporter": "python",
   "pygments_lexer": "ipython3",
   "version": "3.7.4"
  }
 },
 "nbformat": 4,
 "nbformat_minor": 2
}
